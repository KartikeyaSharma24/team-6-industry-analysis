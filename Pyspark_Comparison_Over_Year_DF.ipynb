{
 "cells": [
  {
   "cell_type": "code",
   "execution_count": 1,
   "id": "9224daf2-1d49-454d-9456-714a94ea205a",
   "metadata": {},
   "outputs": [
    {
     "data": {
      "text/html": [
       "\n",
       "            <div>\n",
       "                <p><b>SparkSession - in-memory</b></p>\n",
       "                \n",
       "        <div>\n",
       "            <p><b>SparkContext</b></p>\n",
       "\n",
       "            <p><a href=\"http://10.235.51.185:4040\">Spark UI</a></p>\n",
       "\n",
       "            <dl>\n",
       "              <dt>Version</dt>\n",
       "                <dd><code>v3.5.5</code></dd>\n",
       "              <dt>Master</dt>\n",
       "                <dd><code>local[*]</code></dd>\n",
       "              <dt>AppName</dt>\n",
       "                <dd><code>MySparkApp</code></dd>\n",
       "            </dl>\n",
       "        </div>\n",
       "        \n",
       "            </div>\n",
       "        "
      ],
      "text/plain": [
       "<pyspark.sql.session.SparkSession at 0x1cc64ba9dc0>"
      ]
     },
     "execution_count": 1,
     "metadata": {},
     "output_type": "execute_result"
    }
   ],
   "source": [
    "import findspark\n",
    "findspark.init()\n",
    " \n",
    "from pyspark.sql import SparkSession\n",
    " \n",
    "spark = SparkSession.builder \\\n",
    "    .appName(\"MySparkApp\") \\\n",
    "    .getOrCreate()\n",
    " \n",
    "spark"
   ]
  },
  {
   "cell_type": "code",
   "execution_count": 2,
   "id": "001184d2-68c6-4edc-bea5-3f2c4133f2d9",
   "metadata": {},
   "outputs": [],
   "source": [
    "# Step 1: Import SparkContext\n",
    "from pyspark import SparkContext\n",
    " \n",
    "# Step 2: Initialize SparkContext (use getOrCreate to avoid multiple context errors)\n",
    "sc = SparkContext.getOrCreate()"
   ]
  },
  {
   "cell_type": "code",
   "execution_count": 3,
   "id": "08c6dfe4-a224-4207-8db7-53fede9916f7",
   "metadata": {},
   "outputs": [],
   "source": [
    "Comparison_Over_Year = spark.read.option(\"header\", \"true\").option(\"inferSchema\", \"true\").csv(\"file:///C:/Users/kjindal/OneDrive - Capgemini/Desktop/Industry Analysis/Industry_Analysis_Src01.csv\")"
   ]
  },
  {
   "cell_type": "code",
   "execution_count": 5,
   "id": "3c73d92a-8e1b-4972-a788-c0bef1f522a3",
   "metadata": {},
   "outputs": [],
   "source": [
    "from pyspark.sql.functions import col, year, to_date, avg"
   ]
  },
  {
   "cell_type": "code",
   "execution_count": 6,
   "id": "ef42e852-96a4-403d-895c-0fef35144869",
   "metadata": {},
   "outputs": [],
   "source": [
    "df_with_year = Comparison_Over_Year.withColumn(\"Year\", year(to_date(col(\"Date\"), \"dd-MM-yyyy\")))"
   ]
  },
  {
   "cell_type": "code",
   "execution_count": 8,
   "id": "32d0db80-0868-4540-af89-3cc2430f3cc8",
   "metadata": {},
   "outputs": [],
   "source": [
    "\n",
    "avg_df = df_with_year.groupBy(\"Company Name\", \"Year\").agg(avg(\"Market_Capital(in Million)\").alias(\"Market_Cap\"),avg(\"P/E\").alias(\"P/E\"),avg(\"ROE%\").alias(\"Avg_ROE\"),avg(\"Net_Profit_Margin\").alias(\"NPM\")\n",
    ").orderBy(\"Company Name\", \"Year\")\n"
   ]
  },
  {
   "cell_type": "code",
   "execution_count": 9,
   "id": "dcf74386-cbb8-42b5-92ad-c942a8efeece",
   "metadata": {},
   "outputs": [
    {
     "name": "stdout",
     "output_type": "stream",
     "text": [
      "+--------------------+----+------------------+------------------+------------------+------------------+\n",
      "|        Company Name|Year|        Market_Cap|               P/E|           Avg_ROE|               NPM|\n",
      "+--------------------+----+------------------+------------------+------------------+------------------+\n",
      "|               Aedes|2009| 850.7333333333332|1348.4166666666667|26.970833333333335|36.533333333333324|\n",
      "|               Aedes|2010| 855.9166666666666|1256.6666666666667|28.878333333333334| 33.10833333333333|\n",
      "|               Aedes|2011| 855.5666666666666|           1346.75|28.625833333333343| 25.30333333333333|\n",
      "|Allied Properties...|2009|          2615.025|16.479999999999997| 8.290000000000001|            6.2525|\n",
      "|Allied Properties...|2010|          2583.825|16.366666666666664|              8.54| 9.258333333333335|\n",
      "|Allied Properties...|2011| 2557.883333333333| 15.78333333333333| 9.706666666666663|             6.555|\n",
      "|Anna Infrastructu...|2009| 658.5583333333333|17.609999999999996|16.949999999999996|7.8516666666666675|\n",
      "|Anna Infrastructu...|2010|            661.25| 16.68083333333333|17.116666666666664| 8.491666666666669|\n",
      "|Anna Infrastructu...|2011| 655.5583333333333| 19.56583333333333|             15.28| 7.238333333333333|\n",
      "|Arihant Foundatio...|2009|             850.4| 8.290000000000001|17.529999999999998| 8.838333333333336|\n",
      "|Arihant Foundatio...|2010| 851.0833333333334|              8.54|16.949999999999996| 8.715000000000002|\n",
      "|Arihant Foundatio...|2011|            862.75| 9.706666666666663|15.949999999999998|10.328333333333335|\n",
      "|     Aspen Group Ltd|2009| 863.5500000000001|16.949999999999996|             16.45|61.909166666666664|\n",
      "|     Aspen Group Ltd|2010| 854.5500000000001|17.116666666666664|15.699999999999996| 60.32333333333333|\n",
      "|     Aspen Group Ltd|2011| 884.6666666666669|             15.28|16.366666666666664|              50.5|\n",
      "|             Audi AG|2009| 2547.983333333333| 29.09500000000001| 29.49916666666667| 56.90833333333333|\n",
      "|             Audi AG|2010|3070.4166666666665| 28.32666666666667| 28.11000000000001|61.777499999999996|\n",
      "|             Audi AG|2011|2751.2000000000003|27.884166666666673|28.454166666666676|            59.195|\n",
      "|BSEL Infrastructu...|2009| 863.5500000000001|15.949999999999996| 9.836666666666666|             29.63|\n",
      "|BSEL Infrastructu...|2010| 854.5500000000001|17.199999999999996| 8.206666666666667|38.145833333333336|\n",
      "+--------------------+----+------------------+------------------+------------------+------------------+\n",
      "only showing top 20 rows\n",
      "\n"
     ]
    }
   ],
   "source": [
    "avg_df.show()"
   ]
  },
  {
   "cell_type": "code",
   "execution_count": 11,
   "id": "5c419ff2-fa71-45ff-a5bb-5b99efb3ac43",
   "metadata": {},
   "outputs": [],
   "source": [
    "avg_df.write.option(\"header\", \"true\").partitionBy(\"Year\").csv(\"file:///C:/Users/kjindal/OneDrive - Capgemini/Desktop/Industry Analysis/Analyzed/Pyspark_Comparison_Over_Year_DF\")"
   ]
  },
  {
   "cell_type": "code",
   "execution_count": null,
   "id": "0dfc5746-32d3-4ff7-8e5e-f4c1a0dd07a0",
   "metadata": {},
   "outputs": [],
   "source": []
  }
 ],
 "metadata": {
  "kernelspec": {
   "display_name": "Python 3 (ipykernel)",
   "language": "python",
   "name": "python3"
  },
  "language_info": {
   "codemirror_mode": {
    "name": "ipython",
    "version": 3
   },
   "file_extension": ".py",
   "mimetype": "text/x-python",
   "name": "python",
   "nbconvert_exporter": "python",
   "pygments_lexer": "ipython3",
   "version": "3.9.13"
  }
 },
 "nbformat": 4,
 "nbformat_minor": 5
}
