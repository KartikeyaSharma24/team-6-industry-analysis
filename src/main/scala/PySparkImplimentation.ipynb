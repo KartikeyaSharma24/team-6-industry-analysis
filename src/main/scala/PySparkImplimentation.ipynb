{
 "cells": [
  {
   "cell_type": "code",
   "execution_count": 1,
   "id": "8be57d00-a497-43ef-a254-8c7eaa6ed2e3",
   "metadata": {},
   "outputs": [
    {
     "data": {
      "text/html": [
       "\n",
       "            <div>\n",
       "                <p><b>SparkSession - in-memory</b></p>\n",
       "                \n",
       "        <div>\n",
       "            <p><b>SparkContext</b></p>\n",
       "\n",
       "            <p><a href=\"http://10.235.20.82:4040\">Spark UI</a></p>\n",
       "\n",
       "            <dl>\n",
       "              <dt>Version</dt>\n",
       "                <dd><code>v3.5.5</code></dd>\n",
       "              <dt>Master</dt>\n",
       "                <dd><code>local[*]</code></dd>\n",
       "              <dt>AppName</dt>\n",
       "                <dd><code>MySparkApp</code></dd>\n",
       "            </dl>\n",
       "        </div>\n",
       "        \n",
       "            </div>\n",
       "        "
      ],
      "text/plain": [
       "<pyspark.sql.session.SparkSession at 0x19235929d60>"
      ]
     },
     "execution_count": 1,
     "metadata": {},
     "output_type": "execute_result"
    }
   ],
   "source": [
    "import findspark\n",
    "findspark.init()\n",
    "from pyspark.sql import SparkSession\n",
    "spark = SparkSession.builder \\\n",
    "    .appName(\"MySparkApp\") \\\n",
    "    .getOrCreate()\n",
    "spark"
   ]
  },
  {
   "cell_type": "code",
   "execution_count": 3,
   "id": "b151bac0-54f4-4486-9dac-ed36805fed6c",
   "metadata": {},
   "outputs": [
    {
     "name": "stdout",
     "output_type": "stream",
     "text": [
      "+---------+--------------------------------+----+--------------------+\n",
      "|Country  |Industry Name                   |Year|Total_Market_Capital|\n",
      "+---------+--------------------------------+----+--------------------+\n",
      "|Australia|Auto Mobile                     |2009|38829.3             |\n",
      "|Australia|Auto Mobile                     |2010|32542.899999999998  |\n",
      "|Australia|Auto Mobile                     |2011|37525.0             |\n",
      "|Australia|Information Technology Services |2009|30848.0             |\n",
      "|Australia|Information Technology Services |2010|30243.0             |\n",
      "|Australia|Information Technology Services |2011|31033.0             |\n",
      "|Australia|Power                           |2009|10485.7             |\n",
      "|Australia|Power                           |2010|10312.6             |\n",
      "|Australia|Power                           |2011|10356.3             |\n",
      "|Belgium  |Auto Mobile                     |2009|66308.82            |\n",
      "|Belgium  |Auto Mobile                     |2010|67658.70000000001   |\n",
      "|Belgium  |Auto Mobile                     |2011|69576.37500000001   |\n",
      "|Belgium  |Information Technology Services |2009|10957.0             |\n",
      "|Belgium  |Information Technology Services |2010|11305.0             |\n",
      "|Belgium  |Information Technology Services |2011|11359.0             |\n",
      "|Belgium  |Oil & Gas Refining & Marketing  |2009|7908.4              |\n",
      "|Belgium  |Oil & Gas Refining & Marketing  |2010|7878.4              |\n",
      "|Belgium  |Oil & Gas Refining & Marketing  |2011|8026.799999999999   |\n",
      "|Belgium  |Pharmaceuticals                 |2009|16924.0             |\n",
      "|Belgium  |Pharmaceuticals                 |2010|16841.0             |\n",
      "+---------+--------------------------------+----+--------------------+\n",
      "only showing top 20 rows\n",
      "\n"
     ]
    }
   ],
   "source": [
    "spark.conf.set(\"spark.sql.legacy.timeParserPolicy\", \"LEGACY\")\n",
    "from pyspark.sql.functions import col, year, to_date, sum as _sum\n",
    "\n",
    "# Initialize SparkSession (you’ve already done this part)\n",
    "# spark = SparkSession.builder.appName(\"MySparkApp\").getOrCreate()\n",
    "\n",
    "# Load the raw data\n",
    "market_df = spark.read.option(\"header\", True).option(\"inferSchema\", True) \\\n",
    "    .csv(\"C:\\\\Users\\\\ksharm24\\\\OneDrive - Capgemini\\\\Industry Analysis\\\\Industry_Analysis_Src01.csv\")\n",
    "\n",
    "# Preview schema (optional)\n",
    "# market_df.printSchema()\n",
    "\n",
    "# Extract Year from Date\n",
    "market_df_with_year = market_df.withColumn(\n",
    "    \"Year\", year(to_date(col(\"Date\"), \"dd-MMM-yy\"))\n",
    ")\n",
    "\n",
    "# Group by Country, Industry, and Year and sum Market_Capital\n",
    "grouped_df = market_df_with_year.groupBy(\"Country\", \"Industry Name\", \"Year\") \\\n",
    "    .agg(_sum(\"Market_Capital(in Million)\").alias(\"Total_Market_Capital\")) \\\n",
    "    .orderBy(\"Country\", \"Industry Name\", \"Year\")\n",
    "\n",
    "# Show results\n",
    "grouped_df.show(truncate=False)"
   ]
  },
  {
   "cell_type": "code",
   "execution_count": null,
   "id": "1cb89461-12c7-4bd5-8330-588d7b325612",
   "metadata": {},
   "outputs": [],
   "source": []
  }
 ],
 "metadata": {
  "kernelspec": {
   "display_name": "Python 3 (ipykernel)",
   "language": "python",
   "name": "python3"
  },
  "language_info": {
   "codemirror_mode": {
    "name": "ipython",
    "version": 3
   },
   "file_extension": ".py",
   "mimetype": "text/x-python",
   "name": "python",
   "nbconvert_exporter": "python",
   "pygments_lexer": "ipython3",
   "version": "3.9.13"
  }
 },
 "nbformat": 4,
 "nbformat_minor": 5
}
