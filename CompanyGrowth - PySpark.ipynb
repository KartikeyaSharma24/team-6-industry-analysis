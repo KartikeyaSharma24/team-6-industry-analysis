{
 "cells": [
  {
   "cell_type": "code",
   "execution_count": 1,
   "id": "ba1bf824-9a0f-46f9-8471-4e6e63e1579c",
   "metadata": {},
   "outputs": [
    {
     "data": {
      "text/html": [
       "\n",
       "            <div>\n",
       "                <p><b>SparkSession - in-memory</b></p>\n",
       "                \n",
       "        <div>\n",
       "            <p><b>SparkContext</b></p>\n",
       "\n",
       "            <p><a href=\"http://10.235.42.197:4041\">Spark UI</a></p>\n",
       "\n",
       "            <dl>\n",
       "              <dt>Version</dt>\n",
       "                <dd><code>v3.5.5</code></dd>\n",
       "              <dt>Master</dt>\n",
       "                <dd><code>local[*]</code></dd>\n",
       "              <dt>AppName</dt>\n",
       "                <dd><code>MySparkApp</code></dd>\n",
       "            </dl>\n",
       "        </div>\n",
       "        \n",
       "            </div>\n",
       "        "
      ],
      "text/plain": [
       "<pyspark.sql.session.SparkSession at 0x23ea4441d10>"
      ]
     },
     "execution_count": 1,
     "metadata": {},
     "output_type": "execute_result"
    }
   ],
   "source": [
    "import findspark\n",
    "findspark.init()\n",
    "from pyspark.sql import SparkSession\n",
    "spark = SparkSession.builder \\\n",
    "    .appName(\"MySparkApp\") \\\n",
    "    .getOrCreate()\n",
    "spark"
   ]
  },
  {
   "cell_type": "code",
   "execution_count": 5,
   "id": "f35b1ccf-d6c0-48c9-ad28-87556f555eb4",
   "metadata": {},
   "outputs": [
    {
     "name": "stdout",
     "output_type": "stream",
     "text": [
      "\n",
      " Company Ranking by Total Number of Employees:\n",
      "\n",
      "+-----------------------------+---------------+\n",
      "|Company Name                 |Total_Employees|\n",
      "+-----------------------------+---------------+\n",
      "|Bharat Petroleum Corp Ltd    |18955          |\n",
      "|Reliance Infrastructure Ltd  |18910          |\n",
      "|Geely Automobile Holdings Ltd|18900          |\n",
      "|Ultrapar Holdings Inc.       |18900          |\n",
      "|Hyundai Motor Co             |18900          |\n",
      "|NHPC Ltd                     |18780          |\n",
      "|Allied Properties (HK) Ltd.  |18780          |\n",
      "|Arihant Foundations & Hou    |18760          |\n",
      "|NextEra Energy Inc.          |18750          |\n",
      "|Glaxo Smith                  |18750          |\n",
      "|IBM                          |18750          |\n",
      "|Tata Motors Limited          |18745          |\n",
      "|General Motors Company       |18725          |\n",
      "|Wipro Ltd                    |18710          |\n",
      "|Ranbaxy                      |18690          |\n",
      "|Dongfeng Motor Group Co Ltd  |18690          |\n",
      "|GCL-Poly Energy              |18690          |\n",
      "|Anna Infrastructures Ltd     |18690          |\n",
      "|Renault SA                   |18685          |\n",
      "|Ford Motor                   |18665          |\n",
      "+-----------------------------+---------------+\n",
      "only showing top 20 rows\n",
      "\n"
     ]
    }
   ],
   "source": [
    "from pyspark.sql.functions import sum\n",
    "from pyspark.sql import SparkSession\n",
    "\n",
    "# You've already initialized Spark, so we skip the SparkSession setup here\n",
    "\n",
    "# CSV path\n",
    "file_path = r\"C:\\Users\\ssardana\\OneDrive - Capgemini\\Desktop\\OneDrive_1_23-6-2025 (1)\\Industry_Analysis_Src02.csv\"\n",
    "\n",
    "# Load CSV as DataFrame\n",
    "df = spark.read.option(\"header\", \"true\").option(\"inferSchema\", \"true\").csv(file_path)\n",
    "\n",
    "# Select relevant columns and cast employee count\n",
    "ranked_df = df.select(\"Company Name\", \"No_Of_Emp\") \\\n",
    "    .withColumn(\"No_Of_Emp\", df[\"No_Of_Emp\"].cast(\"int\")) \\\n",
    "    .groupBy(\"Company Name\") \\\n",
    "    .agg(sum(\"No_Of_Emp\").alias(\"Total_Employees\")) \\\n",
    "    .orderBy(\"Total_Employees\", ascending=False)\n",
    "\n",
    "# Display results\n",
    "print(\"\\n Company Ranking by Total Number of Employees:\\n\")\n",
    "ranked_df.show(truncate=False)"
   ]
  },
  {
   "cell_type": "code",
   "execution_count": null,
   "id": "f8c6712d-7bf1-4b72-8d6b-e01179188e7d",
   "metadata": {},
   "outputs": [],
   "source": []
  }
 ],
 "metadata": {
  "kernelspec": {
   "display_name": "Python 3 (ipykernel)",
   "language": "python",
   "name": "python3"
  },
  "language_info": {
   "codemirror_mode": {
    "name": "ipython",
    "version": 3
   },
   "file_extension": ".py",
   "mimetype": "text/x-python",
   "name": "python",
   "nbconvert_exporter": "python",
   "pygments_lexer": "ipython3",
   "version": "3.11.9"
  }
 },
 "nbformat": 4,
 "nbformat_minor": 5
}
